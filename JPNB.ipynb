{
  "metadata": {
    "kernelspec": {
      "name": "python",
      "display_name": "Python (Pyodide)",
      "language": "python"
    },
    "language_info": {
      "codemirror_mode": {
        "name": "python",
        "version": 3
      },
      "file_extension": ".py",
      "mimetype": "text/x-python",
      "name": "python",
      "nbconvert_exporter": "python",
      "pygments_lexer": "ipython3",
      "version": "3.8"
    }
  },
  "nbformat_minor": 4,
  "nbformat": 4,
  "cells": [
    {
      "cell_type": "markdown",
      "source": "JPNB",
      "metadata": {}
    },
    {
      "cell_type": "markdown",
      "source": "Introduction cell",
      "metadata": {}
    },
    {
      "cell_type": "markdown",
      "source": "data science languages:\n- Python\n- R\n- Scala",
      "metadata": {}
    },
    {
      "cell_type": "markdown",
      "source": "data science libraries\n* pandas\n* numpy\n* keras",
      "metadata": {}
    },
    {
      "cell_type": "markdown",
      "source": "                                                                                                                        data science tools\n Index | Name \n--- | --- \n 1 | Jupyter \n 2 | Spark \n 3 | Hive ",
      "metadata": {}
    },
    {
      "cell_type": "markdown",
      "source": "muliply(a,b): muliply 2 numbers\nadd(a,b): add 2 numbers\nconvert_min_to_hours(min): convert minutes to hours",
      "metadata": {}
    },
    {
      "cell_type": "code",
      "source": "def multiply(a,b):\n    return a*b\ndef add(a,b):\n    return a+b",
      "metadata": {
        "trusted": true
      },
      "outputs": [],
      "execution_count": 4
    },
    {
      "cell_type": "code",
      "source": "def convert_min_to_hours(min):\n    return min/60",
      "metadata": {
        "trusted": true
      },
      "outputs": [],
      "execution_count": 3
    },
    {
      "cell_type": "markdown",
      "source": "List of objectives:\n* a\n* b\n* c ",
      "metadata": {}
    },
    {
      "cell_type": "markdown",
      "source": "Author: tgorif",
      "metadata": {}
    }
  ]
}